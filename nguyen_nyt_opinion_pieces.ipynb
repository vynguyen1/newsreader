{
 "cells": [
  {
   "cell_type": "markdown",
   "metadata": {
    "slideshow": {
     "slide_type": "skip"
    }
   },
   "source": [
    "## Implementing a News Reader\n",
    "\n",
    "### Short version:\n",
    "\n",
    "* Build a news reader in python\n",
    "* Include some non-trivial ML based functionality (topic modeling, sentiment classification, political bias detection, ...)  \n",
    "* Feel free to work on non-german news pages (but expect less detailed feedback for arabic or japanese news papers ... )  \n",
    "* Submit your solution as a **jupyter notebook**  (as ipynb file with output cells and html rendered version for readability)  \n",
    "* Prepare a **screencast of 5 minutes** (max), in which you explain what you did and what came out (feel free to include code by rendering your notebook as slide deck)  \n",
    "* Submit your notebook/html and screencast (**deadline July 5th at 12:00 (noon)**)\n",
    "* After submission, you will get another random submission assigned for review (**deadline July 16 at midnight**)\n",
    "\n",
    "### Longer version:\n",
    "\n",
    "In this task you will use what we covered in the previous lectures to build a news reader.  \n",
    "It is recommended that you use the tools presented in the lecture, meaning pandas, sklearn, BeautifulSoup, newspaper3k, ... - that way you will be able to build a functioning solution in a few lines of code.  \n",
    "\n",
    "But of course you can use whatever you are most comfortable with. The only important formal constraint is that you **write it in python and submit it in the above format**.  \n",
    "\n",
    "Solutions that build an end-to-end product that is deployed and usable live through a web interface would be great. But it is equally fine if you just collect some data over a couple days and then present your solution as a 'static' implementation.  \n",
    "\n",
    "Try to implement some non-trivial ML based functionality, such as:\n",
    "\n",
    "* a simple topic model\n",
    "* some supervised model predictions capturing e.g. sentiment, political stance (for instance by predicting the applause a given text would have gotten from each party in the Bundestag)\n"
   ]
  },
  {
   "cell_type": "markdown",
   "metadata": {
    "slideshow": {
     "slide_type": "slide"
    }
   },
   "source": [
    "## Implementing a News Reader"
   ]
  },
  {
   "cell_type": "code",
   "execution_count": 1,
   "metadata": {
    "slideshow": {
     "slide_type": "skip"
    }
   },
   "outputs": [],
   "source": [
    "import pandas as pd\n",
    "import numpy as np\n",
    "import requests\n",
    "\n",
    "import newspaper\n",
    "from newspaper import Article\n",
    "\n",
    "import nltk\n",
    "from nltk.corpus import stopwords\n",
    "from nltk.tokenize import word_tokenize\n",
    "\n",
    "from sklearn.feature_extraction.text import TfidfVectorizer\n",
    "from sklearn.pipeline import Pipeline\n",
    "from sklearn.cluster import KMeans\n",
    "from sklearn.linear_model import LinearRegression\n",
    "\n",
    "import spacy\n",
    "from spacytextblob.spacytextblob import SpacyTextBlob\n",
    "\n",
    "from wordcloud import WordCloud\n",
    "import matplotlib.pyplot as plt "
   ]
  },
  {
   "cell_type": "markdown",
   "metadata": {
    "slideshow": {
     "slide_type": "fragment"
    }
   },
   "source": [
    "## Topic Modeling and Sentiment Analysis\n",
    "\n",
    "We will look at New York Times Opinion articles and see what topics are currently talked about.\n",
    "We will then build a simple model looking at the an author's sentiments."
   ]
  },
  {
   "cell_type": "code",
   "execution_count": 2,
   "metadata": {
    "slideshow": {
     "slide_type": "skip"
    }
   },
   "outputs": [],
   "source": [
    "access_token = \"iM6hqnimXishfgi4Jh6EhaKx3oGnCnZW\"\n",
    "\n",
    "base_url = \"https://api.nytimes.com/svc/news/v3/content/nyt/opinion.json?limit=100&api-key={}\""
   ]
  },
  {
   "cell_type": "markdown",
   "metadata": {
    "slideshow": {
     "slide_type": "slide"
    }
   },
   "source": [
    "### Get articles\n",
    "\n",
    "First we'll get some recent NYT opinion articles using the NYT Times Newswire API:"
   ]
  },
  {
   "cell_type": "code",
   "execution_count": 3,
   "metadata": {
    "slideshow": {
     "slide_type": "skip"
    }
   },
   "outputs": [],
   "source": [
    "def get_articles():\n",
    "\n",
    "    url = base_url.format(access_token)\n",
    "    json = requests.get(url).json()\n",
    "    df_articles = pd.DataFrame(json.get('results'))\n",
    "    df_articles = df_articles[df_articles['item_type']=='Article']\n",
    "\n",
    "    df_articles = df_articles[['url', 'title']]\n",
    "    \n",
    "    for index, row in df_articles.iterrows():\n",
    "        article = Article(row['url'])\n",
    "        article.download()\n",
    "        article.parse()\n",
    "        df_articles.at[index,'author'] = (\",\").join(article.authors)\n",
    "        df_articles.at[index,'article_text'] = article.text\n",
    "    \n",
    "    return df_articles"
   ]
  },
  {
   "cell_type": "code",
   "execution_count": 4,
   "metadata": {
    "slideshow": {
     "slide_type": "skip"
    }
   },
   "outputs": [],
   "source": [
    "df_articles = get_articles()"
   ]
  },
  {
   "cell_type": "code",
   "execution_count": 5,
   "metadata": {
    "slideshow": {
     "slide_type": "skip"
    }
   },
   "outputs": [
    {
     "data": {
      "text/plain": [
       "94"
      ]
     },
     "execution_count": 5,
     "metadata": {},
     "output_type": "execute_result"
    }
   ],
   "source": [
    "len(df_articles)"
   ]
  },
  {
   "cell_type": "code",
   "execution_count": 6,
   "metadata": {
    "slideshow": {
     "slide_type": "fragment"
    }
   },
   "outputs": [
    {
     "data": {
      "text/html": [
       "<div>\n",
       "<style scoped>\n",
       "    .dataframe tbody tr th:only-of-type {\n",
       "        vertical-align: middle;\n",
       "    }\n",
       "\n",
       "    .dataframe tbody tr th {\n",
       "        vertical-align: top;\n",
       "    }\n",
       "\n",
       "    .dataframe thead th {\n",
       "        text-align: right;\n",
       "    }\n",
       "</style>\n",
       "<table border=\"1\" class=\"dataframe\">\n",
       "  <thead>\n",
       "    <tr style=\"text-align: right;\">\n",
       "      <th></th>\n",
       "      <th>url</th>\n",
       "      <th>title</th>\n",
       "      <th>author</th>\n",
       "      <th>article_text</th>\n",
       "    </tr>\n",
       "  </thead>\n",
       "  <tbody>\n",
       "    <tr>\n",
       "      <th>0</th>\n",
       "      <td>https://www.nytimes.com/2021/07/03/opinion/ant...</td>\n",
       "      <td>The Excesses of Antiracist Education</td>\n",
       "      <td>Ross Douthat</td>\n",
       "      <td>The first idea is associated with Robin DiAnge...</td>\n",
       "    </tr>\n",
       "    <tr>\n",
       "      <th>1</th>\n",
       "      <td>https://www.nytimes.com/2021/07/03/opinion/err...</td>\n",
       "      <td>Donald Rumsfeld’s Fog of Memos</td>\n",
       "      <td>Errol Morris</td>\n",
       "      <td>Trying to understand another human being is of...</td>\n",
       "    </tr>\n",
       "    <tr>\n",
       "      <th>2</th>\n",
       "      <td>https://www.nytimes.com/2021/07/03/opinion/cov...</td>\n",
       "      <td>How Do You Convince Tough-Minded People to Pro...</td>\n",
       "      <td>Dana Liebelson</td>\n",
       "      <td>Jalissa Fletcher, a vice president of Cheyenne...</td>\n",
       "    </tr>\n",
       "    <tr>\n",
       "      <th>3</th>\n",
       "      <td>https://www.nytimes.com/2021/07/03/opinion/pre...</td>\n",
       "      <td>Friends in High Places</td>\n",
       "      <td>Maureen Dowd</td>\n",
       "      <td>WASHINGTON — When you are the president’s best...</td>\n",
       "    </tr>\n",
       "    <tr>\n",
       "      <th>4</th>\n",
       "      <td>https://www.nytimes.com/2021/07/03/opinion/let...</td>\n",
       "      <td>Debating the Morality and Value of Zoos</td>\n",
       "      <td></td>\n",
       "      <td>To the Editor:\\n\\nRe “The Case Against Zoos,” ...</td>\n",
       "    </tr>\n",
       "  </tbody>\n",
       "</table>\n",
       "</div>"
      ],
      "text/plain": [
       "                                                 url  \\\n",
       "0  https://www.nytimes.com/2021/07/03/opinion/ant...   \n",
       "1  https://www.nytimes.com/2021/07/03/opinion/err...   \n",
       "2  https://www.nytimes.com/2021/07/03/opinion/cov...   \n",
       "3  https://www.nytimes.com/2021/07/03/opinion/pre...   \n",
       "4  https://www.nytimes.com/2021/07/03/opinion/let...   \n",
       "\n",
       "                                               title          author  \\\n",
       "0               The Excesses of Antiracist Education    Ross Douthat   \n",
       "1                     Donald Rumsfeld’s Fog of Memos    Errol Morris   \n",
       "2  How Do You Convince Tough-Minded People to Pro...  Dana Liebelson   \n",
       "3                             Friends in High Places    Maureen Dowd   \n",
       "4            Debating the Morality and Value of Zoos                   \n",
       "\n",
       "                                        article_text  \n",
       "0  The first idea is associated with Robin DiAnge...  \n",
       "1  Trying to understand another human being is of...  \n",
       "2  Jalissa Fletcher, a vice president of Cheyenne...  \n",
       "3  WASHINGTON — When you are the president’s best...  \n",
       "4  To the Editor:\\n\\nRe “The Case Against Zoos,” ...  "
      ]
     },
     "execution_count": 6,
     "metadata": {},
     "output_type": "execute_result"
    }
   ],
   "source": [
    "df_articles.head(5)"
   ]
  },
  {
   "cell_type": "markdown",
   "metadata": {
    "slideshow": {
     "slide_type": "slide"
    }
   },
   "source": [
    "### Preprocessing\n",
    "\n",
    "We will remove stopwords, punctuation and convert the text to lowercase."
   ]
  },
  {
   "cell_type": "code",
   "execution_count": 7,
   "metadata": {
    "slideshow": {
     "slide_type": "skip"
    }
   },
   "outputs": [],
   "source": [
    "#nltk.download('stopwords')\n",
    "#nltk.download('punkt')\n",
    "\n",
    "stop_words = stopwords.words('english')\n",
    "\n",
    "def remove_stopwords(text):\n",
    "    text_tokens = word_tokenize(text)\n",
    "    tokens_without_stopwords = [word for word in text_tokens if not word in stopwords.words()]\n",
    "    return (\" \").join(tokens_without_stopwords)\n",
    "\n",
    "# Remove stopwords\n",
    "for index, row in df_articles.iterrows():\n",
    "    df_articles.at[index,'article_text_processed'] = remove_stopwords(row['article_text'])"
   ]
  },
  {
   "cell_type": "markdown",
   "metadata": {
    "slideshow": {
     "slide_type": "skip"
    }
   },
   "source": [
    "(Removing the stopwords takes a while, just fyi in case someone wants to run the notebook again.)"
   ]
  },
  {
   "cell_type": "code",
   "execution_count": 8,
   "metadata": {
    "slideshow": {
     "slide_type": "skip"
    }
   },
   "outputs": [
    {
     "name": "stderr",
     "output_type": "stream",
     "text": [
      "<ipython-input-8-af7443501247>:2: FutureWarning: The default value of regex will change from True to False in a future version.\n",
      "  df_articles['article_text_processed'] = df_articles['article_text_processed'].str.replace('[^\\w\\s]','')\n"
     ]
    }
   ],
   "source": [
    "# Remove punctuation\n",
    "df_articles['article_text_processed'] = df_articles['article_text_processed'].str.replace('[^\\w\\s]','')\n",
    "\n",
    "# Convert the texts to lowercase\n",
    "df_articles['article_text_processed'] = df_articles['article_text_processed'].str.lower()"
   ]
  },
  {
   "cell_type": "code",
   "execution_count": 9,
   "metadata": {
    "slideshow": {
     "slide_type": "fragment"
    }
   },
   "outputs": [
    {
     "data": {
      "text/html": [
       "<div>\n",
       "<style scoped>\n",
       "    .dataframe tbody tr th:only-of-type {\n",
       "        vertical-align: middle;\n",
       "    }\n",
       "\n",
       "    .dataframe tbody tr th {\n",
       "        vertical-align: top;\n",
       "    }\n",
       "\n",
       "    .dataframe thead th {\n",
       "        text-align: right;\n",
       "    }\n",
       "</style>\n",
       "<table border=\"1\" class=\"dataframe\">\n",
       "  <thead>\n",
       "    <tr style=\"text-align: right;\">\n",
       "      <th></th>\n",
       "      <th>url</th>\n",
       "      <th>title</th>\n",
       "      <th>author</th>\n",
       "      <th>article_text</th>\n",
       "      <th>article_text_processed</th>\n",
       "    </tr>\n",
       "  </thead>\n",
       "  <tbody>\n",
       "    <tr>\n",
       "      <th>20</th>\n",
       "      <td>https://www.nytimes.com/2021/07/02/opinion/ame...</td>\n",
       "      <td>Snap Out of It, America!</td>\n",
       "      <td>Ezekiel Kweku,Daniel Immerwahr,Jonathan Hollow...</td>\n",
       "      <td>This article originally appeared in the Opinio...</td>\n",
       "      <td>this article originally appeared opinion today...</td>\n",
       "    </tr>\n",
       "    <tr>\n",
       "      <th>3</th>\n",
       "      <td>https://www.nytimes.com/2021/07/03/opinion/pre...</td>\n",
       "      <td>Friends in High Places</td>\n",
       "      <td>Maureen Dowd</td>\n",
       "      <td>WASHINGTON — When you are the president’s best...</td>\n",
       "      <td>washington  when president  best friend  may c...</td>\n",
       "    </tr>\n",
       "    <tr>\n",
       "      <th>59</th>\n",
       "      <td>https://www.nytimes.com/2021/06/29/opinion/let...</td>\n",
       "      <td>‘What’s So Bad About Having Fewer or No Childr...</td>\n",
       "      <td></td>\n",
       "      <td>To the Editor:\\n\\n“The Birthrate Is Falling? T...</td>\n",
       "      <td>to editor   the birthrate is falling  that  no...</td>\n",
       "    </tr>\n",
       "    <tr>\n",
       "      <th>32</th>\n",
       "      <td>https://www.nytimes.com/2021/07/01/opinion/us-...</td>\n",
       "      <td>The Rest of the World Is Worried About America</td>\n",
       "      <td>Ezra Klein</td>\n",
       "      <td>This is evident in our institutions. A society...</td>\n",
       "      <td>this evident institutions  a society valued de...</td>\n",
       "    </tr>\n",
       "    <tr>\n",
       "      <th>1</th>\n",
       "      <td>https://www.nytimes.com/2021/07/03/opinion/err...</td>\n",
       "      <td>Donald Rumsfeld’s Fog of Memos</td>\n",
       "      <td>Errol Morris</td>\n",
       "      <td>Trying to understand another human being is of...</td>\n",
       "      <td>trying understand another human often dismal t...</td>\n",
       "    </tr>\n",
       "  </tbody>\n",
       "</table>\n",
       "</div>"
      ],
      "text/plain": [
       "                                                  url  \\\n",
       "20  https://www.nytimes.com/2021/07/02/opinion/ame...   \n",
       "3   https://www.nytimes.com/2021/07/03/opinion/pre...   \n",
       "59  https://www.nytimes.com/2021/06/29/opinion/let...   \n",
       "32  https://www.nytimes.com/2021/07/01/opinion/us-...   \n",
       "1   https://www.nytimes.com/2021/07/03/opinion/err...   \n",
       "\n",
       "                                                title  \\\n",
       "20                           Snap Out of It, America!   \n",
       "3                              Friends in High Places   \n",
       "59  ‘What’s So Bad About Having Fewer or No Childr...   \n",
       "32     The Rest of the World Is Worried About America   \n",
       "1                      Donald Rumsfeld’s Fog of Memos   \n",
       "\n",
       "                                               author  \\\n",
       "20  Ezekiel Kweku,Daniel Immerwahr,Jonathan Hollow...   \n",
       "3                                        Maureen Dowd   \n",
       "59                                                      \n",
       "32                                         Ezra Klein   \n",
       "1                                        Errol Morris   \n",
       "\n",
       "                                         article_text  \\\n",
       "20  This article originally appeared in the Opinio...   \n",
       "3   WASHINGTON — When you are the president’s best...   \n",
       "59  To the Editor:\\n\\n“The Birthrate Is Falling? T...   \n",
       "32  This is evident in our institutions. A society...   \n",
       "1   Trying to understand another human being is of...   \n",
       "\n",
       "                               article_text_processed  \n",
       "20  this article originally appeared opinion today...  \n",
       "3   washington  when president  best friend  may c...  \n",
       "59  to editor   the birthrate is falling  that  no...  \n",
       "32  this evident institutions  a society valued de...  \n",
       "1   trying understand another human often dismal t...  "
      ]
     },
     "execution_count": 9,
     "metadata": {},
     "output_type": "execute_result"
    }
   ],
   "source": [
    "df_articles.sample(5)"
   ]
  },
  {
   "cell_type": "markdown",
   "metadata": {
    "slideshow": {
     "slide_type": "slide"
    }
   },
   "source": [
    "### Topic Modeling"
   ]
  },
  {
   "cell_type": "code",
   "execution_count": 13,
   "metadata": {
    "slideshow": {
     "slide_type": "subslide"
    }
   },
   "outputs": [
    {
     "data": {
      "text/html": [
       "<div>\n",
       "<style scoped>\n",
       "    .dataframe tbody tr th:only-of-type {\n",
       "        vertical-align: middle;\n",
       "    }\n",
       "\n",
       "    .dataframe tbody tr th {\n",
       "        vertical-align: top;\n",
       "    }\n",
       "\n",
       "    .dataframe thead th {\n",
       "        text-align: right;\n",
       "    }\n",
       "</style>\n",
       "<table border=\"1\" class=\"dataframe\">\n",
       "  <thead>\n",
       "    <tr style=\"text-align: right;\">\n",
       "      <th></th>\n",
       "      <th>url</th>\n",
       "      <th>title</th>\n",
       "      <th>author</th>\n",
       "      <th>article_text</th>\n",
       "      <th>article_text_processed</th>\n",
       "      <th>cluster_assignment</th>\n",
       "    </tr>\n",
       "  </thead>\n",
       "  <tbody>\n",
       "    <tr>\n",
       "      <th>0</th>\n",
       "      <td>https://www.nytimes.com/2021/07/03/opinion/ant...</td>\n",
       "      <td>The Excesses of Antiracist Education</td>\n",
       "      <td>Ross Douthat</td>\n",
       "      <td>The first idea is associated with Robin DiAnge...</td>\n",
       "      <td>the first idea associated robin diangelo  seco...</td>\n",
       "      <td>1</td>\n",
       "    </tr>\n",
       "    <tr>\n",
       "      <th>1</th>\n",
       "      <td>https://www.nytimes.com/2021/07/03/opinion/err...</td>\n",
       "      <td>Donald Rumsfeld’s Fog of Memos</td>\n",
       "      <td>Errol Morris</td>\n",
       "      <td>Trying to understand another human being is of...</td>\n",
       "      <td>trying understand another human often dismal t...</td>\n",
       "      <td>0</td>\n",
       "    </tr>\n",
       "    <tr>\n",
       "      <th>2</th>\n",
       "      <td>https://www.nytimes.com/2021/07/03/opinion/cov...</td>\n",
       "      <td>How Do You Convince Tough-Minded People to Pro...</td>\n",
       "      <td>Dana Liebelson</td>\n",
       "      <td>Jalissa Fletcher, a vice president of Cheyenne...</td>\n",
       "      <td>jalissa fletcher  vice president cheyenne  cha...</td>\n",
       "      <td>6</td>\n",
       "    </tr>\n",
       "    <tr>\n",
       "      <th>3</th>\n",
       "      <td>https://www.nytimes.com/2021/07/03/opinion/pre...</td>\n",
       "      <td>Friends in High Places</td>\n",
       "      <td>Maureen Dowd</td>\n",
       "      <td>WASHINGTON — When you are the president’s best...</td>\n",
       "      <td>washington  when president  best friend  may c...</td>\n",
       "      <td>1</td>\n",
       "    </tr>\n",
       "    <tr>\n",
       "      <th>4</th>\n",
       "      <td>https://www.nytimes.com/2021/07/03/opinion/let...</td>\n",
       "      <td>Debating the Morality and Value of Zoos</td>\n",
       "      <td></td>\n",
       "      <td>To the Editor:\\n\\nRe “The Case Against Zoos,” ...</td>\n",
       "      <td>to editor  re  the case against zoos   emma ma...</td>\n",
       "      <td>1</td>\n",
       "    </tr>\n",
       "  </tbody>\n",
       "</table>\n",
       "</div>"
      ],
      "text/plain": [
       "                                                 url  \\\n",
       "0  https://www.nytimes.com/2021/07/03/opinion/ant...   \n",
       "1  https://www.nytimes.com/2021/07/03/opinion/err...   \n",
       "2  https://www.nytimes.com/2021/07/03/opinion/cov...   \n",
       "3  https://www.nytimes.com/2021/07/03/opinion/pre...   \n",
       "4  https://www.nytimes.com/2021/07/03/opinion/let...   \n",
       "\n",
       "                                               title          author  \\\n",
       "0               The Excesses of Antiracist Education    Ross Douthat   \n",
       "1                     Donald Rumsfeld’s Fog of Memos    Errol Morris   \n",
       "2  How Do You Convince Tough-Minded People to Pro...  Dana Liebelson   \n",
       "3                             Friends in High Places    Maureen Dowd   \n",
       "4            Debating the Morality and Value of Zoos                   \n",
       "\n",
       "                                        article_text  \\\n",
       "0  The first idea is associated with Robin DiAnge...   \n",
       "1  Trying to understand another human being is of...   \n",
       "2  Jalissa Fletcher, a vice president of Cheyenne...   \n",
       "3  WASHINGTON — When you are the president’s best...   \n",
       "4  To the Editor:\\n\\nRe “The Case Against Zoos,” ...   \n",
       "\n",
       "                              article_text_processed  cluster_assignment  \n",
       "0  the first idea associated robin diangelo  seco...                   1  \n",
       "1  trying understand another human often dismal t...                   0  \n",
       "2  jalissa fletcher  vice president cheyenne  cha...                   6  \n",
       "3  washington  when president  best friend  may c...                   1  \n",
       "4  to editor  re  the case against zoos   emma ma...                   1  "
      ]
     },
     "execution_count": 13,
     "metadata": {},
     "output_type": "execute_result"
    }
   ],
   "source": [
    "text_clustering = Pipeline([('vect', TfidfVectorizer(stop_words='english', ngram_range=(1,3))),\n",
    "                     ('clustering', KMeans(n_clusters=12))])\n",
    "\n",
    "text_clustering.fit(df_articles['article_text_processed'])\n",
    "df_articles['cluster_assignment'] = text_clustering.predict(df_articles['article_text_processed'])\n",
    "df_articles.head()"
   ]
  },
  {
   "cell_type": "markdown",
   "metadata": {
    "slideshow": {
     "slide_type": "skip"
    }
   },
   "source": [
    "Look, for example, at the articles belonging to cluster 3 and 8:"
   ]
  },
  {
   "cell_type": "code",
   "execution_count": 16,
   "metadata": {
    "slideshow": {
     "slide_type": "skip"
    }
   },
   "outputs": [
    {
     "data": {
      "text/html": [
       "<div>\n",
       "<style scoped>\n",
       "    .dataframe tbody tr th:only-of-type {\n",
       "        vertical-align: middle;\n",
       "    }\n",
       "\n",
       "    .dataframe tbody tr th {\n",
       "        vertical-align: top;\n",
       "    }\n",
       "\n",
       "    .dataframe thead th {\n",
       "        text-align: right;\n",
       "    }\n",
       "</style>\n",
       "<table border=\"1\" class=\"dataframe\">\n",
       "  <thead>\n",
       "    <tr style=\"text-align: right;\">\n",
       "      <th></th>\n",
       "      <th>url</th>\n",
       "      <th>title</th>\n",
       "      <th>author</th>\n",
       "      <th>article_text</th>\n",
       "      <th>article_text_processed</th>\n",
       "      <th>cluster_assignment</th>\n",
       "    </tr>\n",
       "  </thead>\n",
       "  <tbody>\n",
       "    <tr>\n",
       "      <th>13</th>\n",
       "      <td>https://www.nytimes.com/2021/07/02/opinion/wor...</td>\n",
       "      <td>Wonking Out: Alexander Hamilton and Post-Covid...</td>\n",
       "      <td>Paul Krugman</td>\n",
       "      <td>In the spring of 2020, the U.S. economy went i...</td>\n",
       "      <td>in spring 2020  us economy went i described ti...</td>\n",
       "      <td>3</td>\n",
       "    </tr>\n",
       "    <tr>\n",
       "      <th>25</th>\n",
       "      <td>https://www.nytimes.com/2021/07/01/opinion/cov...</td>\n",
       "      <td>How Dangerous Is the Delta Variant?</td>\n",
       "      <td>Spencer Bokat-Lindell</td>\n",
       "      <td>What scientists know about the variant so far\\...</td>\n",
       "      <td>what scientists know variant far the delta var...</td>\n",
       "      <td>3</td>\n",
       "    </tr>\n",
       "    <tr>\n",
       "      <th>80</th>\n",
       "      <td>https://www.nytimes.com/2021/06/27/opinion/cov...</td>\n",
       "      <td>Human Behavior During the Pandemic Is More Imp...</td>\n",
       "      <td>Amy B. Rosenfeld,Vincent R. Racaniello</td>\n",
       "      <td>News headlines and health experts on social me...</td>\n",
       "      <td>news headlines health experts social media sou...</td>\n",
       "      <td>3</td>\n",
       "    </tr>\n",
       "    <tr>\n",
       "      <th>93</th>\n",
       "      <td>https://www.nytimes.com/2021/06/25/opinion/cor...</td>\n",
       "      <td>Where Did the Coronavirus Come From? What We A...</td>\n",
       "      <td>Zeynep Tufekci</td>\n",
       "      <td>They have refused to share direct records from...</td>\n",
       "      <td>they refused share direct records lab  dr shi ...</td>\n",
       "      <td>3</td>\n",
       "    </tr>\n",
       "  </tbody>\n",
       "</table>\n",
       "</div>"
      ],
      "text/plain": [
       "                                                  url  \\\n",
       "13  https://www.nytimes.com/2021/07/02/opinion/wor...   \n",
       "25  https://www.nytimes.com/2021/07/01/opinion/cov...   \n",
       "80  https://www.nytimes.com/2021/06/27/opinion/cov...   \n",
       "93  https://www.nytimes.com/2021/06/25/opinion/cor...   \n",
       "\n",
       "                                                title  \\\n",
       "13  Wonking Out: Alexander Hamilton and Post-Covid...   \n",
       "25                How Dangerous Is the Delta Variant?   \n",
       "80  Human Behavior During the Pandemic Is More Imp...   \n",
       "93  Where Did the Coronavirus Come From? What We A...   \n",
       "\n",
       "                                    author  \\\n",
       "13                            Paul Krugman   \n",
       "25                   Spencer Bokat-Lindell   \n",
       "80  Amy B. Rosenfeld,Vincent R. Racaniello   \n",
       "93                          Zeynep Tufekci   \n",
       "\n",
       "                                         article_text  \\\n",
       "13  In the spring of 2020, the U.S. economy went i...   \n",
       "25  What scientists know about the variant so far\\...   \n",
       "80  News headlines and health experts on social me...   \n",
       "93  They have refused to share direct records from...   \n",
       "\n",
       "                               article_text_processed  cluster_assignment  \n",
       "13  in spring 2020  us economy went i described ti...                   3  \n",
       "25  what scientists know variant far the delta var...                   3  \n",
       "80  news headlines health experts social media sou...                   3  \n",
       "93  they refused share direct records lab  dr shi ...                   3  "
      ]
     },
     "execution_count": 16,
     "metadata": {},
     "output_type": "execute_result"
    }
   ],
   "source": [
    "df_articles[df_articles['cluster_assignment']== 3]"
   ]
  },
  {
   "cell_type": "code",
   "execution_count": 17,
   "metadata": {
    "slideshow": {
     "slide_type": "skip"
    }
   },
   "outputs": [
    {
     "data": {
      "text/html": [
       "<div>\n",
       "<style scoped>\n",
       "    .dataframe tbody tr th:only-of-type {\n",
       "        vertical-align: middle;\n",
       "    }\n",
       "\n",
       "    .dataframe tbody tr th {\n",
       "        vertical-align: top;\n",
       "    }\n",
       "\n",
       "    .dataframe thead th {\n",
       "        text-align: right;\n",
       "    }\n",
       "</style>\n",
       "<table border=\"1\" class=\"dataframe\">\n",
       "  <thead>\n",
       "    <tr style=\"text-align: right;\">\n",
       "      <th></th>\n",
       "      <th>url</th>\n",
       "      <th>title</th>\n",
       "      <th>author</th>\n",
       "      <th>article_text</th>\n",
       "      <th>article_text_processed</th>\n",
       "      <th>cluster_assignment</th>\n",
       "    </tr>\n",
       "  </thead>\n",
       "  <tbody>\n",
       "    <tr>\n",
       "      <th>24</th>\n",
       "      <td>https://www.nytimes.com/2021/07/01/opinion/sup...</td>\n",
       "      <td>The Supreme Court Abandons Voting Rights</td>\n",
       "      <td>The Editorial Board</td>\n",
       "      <td>Section 5 was by far the most effective way to...</td>\n",
       "      <td>section 5 far effective way prevent voting dis...</td>\n",
       "      <td>8</td>\n",
       "    </tr>\n",
       "    <tr>\n",
       "      <th>27</th>\n",
       "      <td>https://www.nytimes.com/2021/07/01/opinion/sup...</td>\n",
       "      <td>The Supreme Court Is Putting Democracy at Risk</td>\n",
       "      <td>Richard L. Hasen</td>\n",
       "      <td>What’s worse, the court did not decide Brnovic...</td>\n",
       "      <td>what  worse  court decide brnovich vacuum two ...</td>\n",
       "      <td>8</td>\n",
       "    </tr>\n",
       "    <tr>\n",
       "      <th>32</th>\n",
       "      <td>https://www.nytimes.com/2021/07/01/opinion/us-...</td>\n",
       "      <td>The Rest of the World Is Worried About America</td>\n",
       "      <td>Ezra Klein</td>\n",
       "      <td>This is evident in our institutions. A society...</td>\n",
       "      <td>this evident institutions  a society valued de...</td>\n",
       "      <td>8</td>\n",
       "    </tr>\n",
       "    <tr>\n",
       "      <th>40</th>\n",
       "      <td>https://www.nytimes.com/2021/06/30/opinion/ele...</td>\n",
       "      <td>Altering Our Vision of Voting</td>\n",
       "      <td>Charles M. Blow</td>\n",
       "      <td>Now, only the articulation is absent; the resu...</td>\n",
       "      <td>now  articulation absent  results  and even be...</td>\n",
       "      <td>8</td>\n",
       "    </tr>\n",
       "    <tr>\n",
       "      <th>45</th>\n",
       "      <td>https://www.nytimes.com/2021/06/30/opinion/nyc...</td>\n",
       "      <td>The N.Y.C. Elections Board Is a Disaster. This...</td>\n",
       "      <td>The Editorial Board</td>\n",
       "      <td>New Yorkers have endured the incompetence of t...</td>\n",
       "      <td>new yorkers endured incompetence city  board e...</td>\n",
       "      <td>8</td>\n",
       "    </tr>\n",
       "    <tr>\n",
       "      <th>49</th>\n",
       "      <td>https://www.nytimes.com/2021/06/30/opinion/eri...</td>\n",
       "      <td>‘New York City Is a World Unto Itself.’ But It...</td>\n",
       "      <td>Thomas B. Edsall</td>\n",
       "      <td>The results in the mayoral primary so far are ...</td>\n",
       "      <td>the results mayoral primary far evidence conti...</td>\n",
       "      <td>8</td>\n",
       "    </tr>\n",
       "    <tr>\n",
       "      <th>83</th>\n",
       "      <td>https://www.nytimes.com/2021/06/26/opinion/tru...</td>\n",
       "      <td>The Cruel Logic of the Republican Party, Befor...</td>\n",
       "      <td>Adam Serwer</td>\n",
       "      <td>The Radical Republicans believed the ballot wo...</td>\n",
       "      <td>the radical republicans believed ballot would ...</td>\n",
       "      <td>8</td>\n",
       "    </tr>\n",
       "    <tr>\n",
       "      <th>96</th>\n",
       "      <td>https://www.nytimes.com/2021/06/25/opinion/ezr...</td>\n",
       "      <td>Republicans Are Setting Off a ‘Doom Loop’ for ...</td>\n",
       "      <td>The Ezra Klein Show</td>\n",
       "      <td>[MUSIC PLAYING]\\n\\nezra klein\\n\\nI’m Ezra Klei...</td>\n",
       "      <td>music playing  ezra klein i  ezra klein   the...</td>\n",
       "      <td>8</td>\n",
       "    </tr>\n",
       "  </tbody>\n",
       "</table>\n",
       "</div>"
      ],
      "text/plain": [
       "                                                  url  \\\n",
       "24  https://www.nytimes.com/2021/07/01/opinion/sup...   \n",
       "27  https://www.nytimes.com/2021/07/01/opinion/sup...   \n",
       "32  https://www.nytimes.com/2021/07/01/opinion/us-...   \n",
       "40  https://www.nytimes.com/2021/06/30/opinion/ele...   \n",
       "45  https://www.nytimes.com/2021/06/30/opinion/nyc...   \n",
       "49  https://www.nytimes.com/2021/06/30/opinion/eri...   \n",
       "83  https://www.nytimes.com/2021/06/26/opinion/tru...   \n",
       "96  https://www.nytimes.com/2021/06/25/opinion/ezr...   \n",
       "\n",
       "                                                title               author  \\\n",
       "24           The Supreme Court Abandons Voting Rights  The Editorial Board   \n",
       "27     The Supreme Court Is Putting Democracy at Risk     Richard L. Hasen   \n",
       "32     The Rest of the World Is Worried About America           Ezra Klein   \n",
       "40                      Altering Our Vision of Voting      Charles M. Blow   \n",
       "45  The N.Y.C. Elections Board Is a Disaster. This...  The Editorial Board   \n",
       "49  ‘New York City Is a World Unto Itself.’ But It...     Thomas B. Edsall   \n",
       "83  The Cruel Logic of the Republican Party, Befor...          Adam Serwer   \n",
       "96  Republicans Are Setting Off a ‘Doom Loop’ for ...  The Ezra Klein Show   \n",
       "\n",
       "                                         article_text  \\\n",
       "24  Section 5 was by far the most effective way to...   \n",
       "27  What’s worse, the court did not decide Brnovic...   \n",
       "32  This is evident in our institutions. A society...   \n",
       "40  Now, only the articulation is absent; the resu...   \n",
       "45  New Yorkers have endured the incompetence of t...   \n",
       "49  The results in the mayoral primary so far are ...   \n",
       "83  The Radical Republicans believed the ballot wo...   \n",
       "96  [MUSIC PLAYING]\\n\\nezra klein\\n\\nI’m Ezra Klei...   \n",
       "\n",
       "                               article_text_processed  cluster_assignment  \n",
       "24  section 5 far effective way prevent voting dis...                   8  \n",
       "27  what  worse  court decide brnovich vacuum two ...                   8  \n",
       "32  this evident institutions  a society valued de...                   8  \n",
       "40  now  articulation absent  results  and even be...                   8  \n",
       "45  new yorkers endured incompetence city  board e...                   8  \n",
       "49  the results mayoral primary far evidence conti...                   8  \n",
       "83  the radical republicans believed ballot would ...                   8  \n",
       "96   music playing  ezra klein i  ezra klein   the...                   8  "
      ]
     },
     "execution_count": 17,
     "metadata": {},
     "output_type": "execute_result"
    }
   ],
   "source": [
    "df_articles[df_articles['cluster_assignment']== 8]"
   ]
  },
  {
   "cell_type": "markdown",
   "metadata": {
    "slideshow": {
     "slide_type": "slide"
    }
   },
   "source": [
    "Create and generate word cloud images from the clusters:"
   ]
  },
  {
   "cell_type": "code",
   "execution_count": 18,
   "metadata": {
    "slideshow": {
     "slide_type": "fragment"
    }
   },
   "outputs": [],
   "source": [
    "idx2word = {v:k for k,v in text_clustering.steps[0][1].vocabulary_.items()}\n",
    "cluster_centers = text_clustering.steps[1][1].cluster_centers_\n",
    "cluster_words = {}\n",
    "for cluster_id, cluster_center in enumerate(cluster_centers):\n",
    "    cluster_words[cluster_id] = [idx2word[idx] for idx in cluster_center.argsort()[-10:][::-1]]"
   ]
  },
  {
   "cell_type": "code",
   "execution_count": 30,
   "metadata": {
    "slideshow": {
     "slide_type": "slide"
    }
   },
   "outputs": [
    {
     "data": {
      "image/png": "[encoded data removed]",
      "text/plain": [
       "<Figure size 720x720 with 12 Axes>"
      ]
     },
     "metadata": {
      "needs_background": "light"
     },
     "output_type": "display_data"
    }
   ],
   "source": [
    "plt.figure(figsize=(10, 10))\n",
    "for idx, words in cluster_words.items():\n",
    "    ax = plt.subplot(4, 3, idx + 1)\n",
    "    words_string = (\" \").join(words)\n",
    "    wordcloud = WordCloud(background_color=\"white\").generate(words_string)\n",
    "    plt.imshow(wordcloud, interpolation='bilinear')\n",
    "    plt.axis(\"off\")"
   ]
  },
  {
   "cell_type": "markdown",
   "metadata": {
    "slideshow": {
     "slide_type": "slide"
    }
   },
   "source": [
    "### Evaluation\n",
    "\n",
    "Since this is clustering (unsupervised) without any ground truth labels, we'll evaluate the model with the silhouette score which gives a range of [-1, 1].  \n",
    "\n",
    "Silhouette coefficients near +1 indicate that the sample is far away from the neighboring clusters. A value of 0 indicates that the sample is on or very close to the decision boundary between two neighboring clusters and negative values indicate that those samples might have been assigned to the wrong cluster."
   ]
  },
  {
   "cell_type": "code",
   "execution_count": 31,
   "metadata": {
    "slideshow": {
     "slide_type": "fragment"
    }
   },
   "outputs": [
    {
     "data": {
      "text/plain": [
       "0.821131478640238"
      ]
     },
     "execution_count": 31,
     "metadata": {},
     "output_type": "execute_result"
    }
   ],
   "source": [
    "from sklearn.metrics import silhouette_score\n",
    "\n",
    "labels = text_clustering['clustering'].labels_\n",
    "X = text_clustering.transform(df_articles['article_text_processed'])\n",
    "silhouette_score(X, labels)"
   ]
  },
  {
   "cell_type": "markdown",
   "metadata": {
    "slideshow": {
     "slide_type": "subslide"
    }
   },
   "source": [
    "The Davies-Bouldin Index signifies the average ‘similarity’ between clusters, where the similarity is a measure that compares the distance between clusters with the size of the clusters themselves.  \n",
    "\n",
    "Zero is the lowest possible score, so values closer to zero indicate a better partition."
   ]
  },
  {
   "cell_type": "code",
   "execution_count": 32,
   "metadata": {
    "slideshow": {
     "slide_type": "fragment"
    }
   },
   "outputs": [
    {
     "data": {
      "text/plain": [
       "0.17497638926418604"
      ]
     },
     "execution_count": 32,
     "metadata": {},
     "output_type": "execute_result"
    }
   ],
   "source": [
    "from sklearn.metrics import davies_bouldin_score\n",
    "davies_bouldin_score(X, labels)"
   ]
  },
  {
   "cell_type": "markdown",
   "metadata": {
    "slideshow": {
     "slide_type": "fragment"
    }
   },
   "source": [
    "The Calinski-Harabasz index can also be used to evaluate the model, where a higher Calinski-Harabasz score relates to a model with better defined clusters."
   ]
  },
  {
   "cell_type": "code",
   "execution_count": 33,
   "metadata": {
    "slideshow": {
     "slide_type": "fragment"
    }
   },
   "outputs": [
    {
     "data": {
      "text/plain": [
       "926.6836145273867"
      ]
     },
     "execution_count": 33,
     "metadata": {},
     "output_type": "execute_result"
    }
   ],
   "source": [
    "from sklearn.metrics import calinski_harabasz_score\n",
    "calinski_harabasz_score(X, labels)"
   ]
  },
  {
   "cell_type": "markdown",
   "metadata": {
    "slideshow": {
     "slide_type": "slide"
    }
   },
   "source": [
    "### Sentiment Analysis\n",
    "\n",
    "Now we will perform some sentiment analysis on the opinion articles using spaCyTextBlob."
   ]
  },
  {
   "cell_type": "code",
   "execution_count": 34,
   "metadata": {
    "slideshow": {
     "slide_type": "fragment"
    }
   },
   "outputs": [
    {
     "data": {
      "text/plain": [
       "<spacytextblob.spacytextblob.SpacyTextBlob at 0x135019160>"
      ]
     },
     "execution_count": 34,
     "metadata": {},
     "output_type": "execute_result"
    }
   ],
   "source": [
    "nlp = spacy.load(\"en_core_web_sm\")\n",
    "nlp.add_pipe('spacytextblob')"
   ]
  },
  {
   "cell_type": "markdown",
   "metadata": {
    "slideshow": {
     "slide_type": "skip"
    }
   },
   "source": [
    "**Polarity** is float which lies in the range of [-1,1] where 1 means positive statement and -1 means a negative statement.  \n",
    "negative vs. positive    (-1.0 => +1.0)  \n",
    "\n",
    "**Subjectivity** is also a float which lies in the range of [0,1]. Subjective sentences generally refer to personal opinion, emotion or judgment whereas objective refers to factual information.  \n",
    "objective vs. subjective (+0.0 => +1.0)"
   ]
  },
  {
   "cell_type": "code",
   "execution_count": 35,
   "metadata": {
    "slideshow": {
     "slide_type": "skip"
    }
   },
   "outputs": [],
   "source": [
    "# Drop rows where author is empty\n",
    "df_articles_sentiment = df_articles.copy()\n",
    "df_articles_sentiment = df_articles_sentiment[~df_articles_sentiment['author'].eq('')]"
   ]
  },
  {
   "cell_type": "code",
   "execution_count": 36,
   "metadata": {
    "slideshow": {
     "slide_type": "fragment"
    }
   },
   "outputs": [],
   "source": [
    "for idx, row in df_articles_sentiment.iterrows():\n",
    "    doc = nlp(row['article_text'])\n",
    "    df_articles_sentiment.at[idx,'polarity'] = doc._.polarity\n",
    "    df_articles_sentiment.at[idx,'subjectivity'] = doc._.subjectivity"
   ]
  },
  {
   "cell_type": "markdown",
   "metadata": {
    "slideshow": {
     "slide_type": "slide"
    }
   },
   "source": [
    "We can, for example, look at some opinion pieces where the sentiment is more negative:"
   ]
  },
  {
   "cell_type": "code",
   "execution_count": 37,
   "metadata": {
    "slideshow": {
     "slide_type": "fragment"
    }
   },
   "outputs": [
    {
     "data": {
      "text/html": [
       "<div>\n",
       "<style scoped>\n",
       "    .dataframe tbody tr th:only-of-type {\n",
       "        vertical-align: middle;\n",
       "    }\n",
       "\n",
       "    .dataframe tbody tr th {\n",
       "        vertical-align: top;\n",
       "    }\n",
       "\n",
       "    .dataframe thead th {\n",
       "        text-align: right;\n",
       "    }\n",
       "</style>\n",
       "<table border=\"1\" class=\"dataframe\">\n",
       "  <thead>\n",
       "    <tr style=\"text-align: right;\">\n",
       "      <th></th>\n",
       "      <th>url</th>\n",
       "      <th>title</th>\n",
       "      <th>author</th>\n",
       "      <th>article_text</th>\n",
       "      <th>article_text_processed</th>\n",
       "      <th>cluster_assignment</th>\n",
       "      <th>polarity</th>\n",
       "      <th>subjectivity</th>\n",
       "    </tr>\n",
       "  </thead>\n",
       "  <tbody>\n",
       "    <tr>\n",
       "      <th>93</th>\n",
       "      <td>https://www.nytimes.com/2021/06/25/opinion/cor...</td>\n",
       "      <td>Where Did the Coronavirus Come From? What We A...</td>\n",
       "      <td>Zeynep Tufekci</td>\n",
       "      <td>They have refused to share direct records from...</td>\n",
       "      <td>they refused share direct records lab  dr shi ...</td>\n",
       "      <td>3</td>\n",
       "      <td>-0.017914</td>\n",
       "      <td>0.443460</td>\n",
       "    </tr>\n",
       "    <tr>\n",
       "      <th>95</th>\n",
       "      <td>https://www.nytimes.com/2021/06/25/opinion/tru...</td>\n",
       "      <td>America Is Getting Meaner</td>\n",
       "      <td>Timothy Egan</td>\n",
       "      <td>I went to see my doctor the other day for a Co...</td>\n",
       "      <td>i went see doctor day coviddelayed physical  i...</td>\n",
       "      <td>1</td>\n",
       "      <td>-0.031485</td>\n",
       "      <td>0.587406</td>\n",
       "    </tr>\n",
       "    <tr>\n",
       "      <th>94</th>\n",
       "      <td>https://www.nytimes.com/2021/06/25/opinion/imr...</td>\n",
       "      <td>Opinion Q. and A.: Imran Khan Urges a New U.S....</td>\n",
       "      <td>Yara Bayoumy,Jyoti Thottam</td>\n",
       "      <td>So there was this mistrust between the two cou...</td>\n",
       "      <td>so mistrust two countries  and people pakistan...</td>\n",
       "      <td>1</td>\n",
       "      <td>-0.037605</td>\n",
       "      <td>0.329715</td>\n",
       "    </tr>\n",
       "  </tbody>\n",
       "</table>\n",
       "</div>"
      ],
      "text/plain": [
       "                                                  url  \\\n",
       "93  https://www.nytimes.com/2021/06/25/opinion/cor...   \n",
       "95  https://www.nytimes.com/2021/06/25/opinion/tru...   \n",
       "94  https://www.nytimes.com/2021/06/25/opinion/imr...   \n",
       "\n",
       "                                                title  \\\n",
       "93  Where Did the Coronavirus Come From? What We A...   \n",
       "95                          America Is Getting Meaner   \n",
       "94  Opinion Q. and A.: Imran Khan Urges a New U.S....   \n",
       "\n",
       "                        author  \\\n",
       "93              Zeynep Tufekci   \n",
       "95                Timothy Egan   \n",
       "94  Yara Bayoumy,Jyoti Thottam   \n",
       "\n",
       "                                         article_text  \\\n",
       "93  They have refused to share direct records from...   \n",
       "95  I went to see my doctor the other day for a Co...   \n",
       "94  So there was this mistrust between the two cou...   \n",
       "\n",
       "                               article_text_processed  cluster_assignment  \\\n",
       "93  they refused share direct records lab  dr shi ...                   3   \n",
       "95  i went see doctor day coviddelayed physical  i...                   1   \n",
       "94  so mistrust two countries  and people pakistan...                   1   \n",
       "\n",
       "    polarity  subjectivity  \n",
       "93 -0.017914      0.443460  \n",
       "95 -0.031485      0.587406  \n",
       "94 -0.037605      0.329715  "
      ]
     },
     "execution_count": 37,
     "metadata": {},
     "output_type": "execute_result"
    }
   ],
   "source": [
    "df_articles_sentiment[df_articles_sentiment['polarity'] < 0.0].sample(3)"
   ]
  },
  {
   "cell_type": "code",
   "execution_count": 38,
   "metadata": {
    "slideshow": {
     "slide_type": "skip"
    }
   },
   "outputs": [
    {
     "data": {
      "text/plain": [
       "Paul Krugman             4\n",
       "The Editorial Board      4\n",
       "Michelle Goldberg        3\n",
       "Michelle Cottle          3\n",
       "The Ezra Klein Show      3\n",
       "Ross Douthat             2\n",
       "David Brooks             2\n",
       "Spencer Bokat-Lindell    2\n",
       "Name: author, dtype: int64"
      ]
     },
     "execution_count": 38,
     "metadata": {},
     "output_type": "execute_result"
    }
   ],
   "source": [
    "df_articles_sentiment['author'].value_counts().head(8)"
   ]
  },
  {
   "cell_type": "markdown",
   "metadata": {
    "slideshow": {
     "slide_type": "skip"
    }
   },
   "source": [
    "We will randomly pick an author from above list"
   ]
  },
  {
   "cell_type": "code",
   "execution_count": 39,
   "metadata": {
    "slideshow": {
     "slide_type": "skip"
    }
   },
   "outputs": [
    {
     "data": {
      "text/html": [
       "<div>\n",
       "<style scoped>\n",
       "    .dataframe tbody tr th:only-of-type {\n",
       "        vertical-align: middle;\n",
       "    }\n",
       "\n",
       "    .dataframe tbody tr th {\n",
       "        vertical-align: top;\n",
       "    }\n",
       "\n",
       "    .dataframe thead th {\n",
       "        text-align: right;\n",
       "    }\n",
       "</style>\n",
       "<table border=\"1\" class=\"dataframe\">\n",
       "  <thead>\n",
       "    <tr style=\"text-align: right;\">\n",
       "      <th></th>\n",
       "      <th>url</th>\n",
       "      <th>title</th>\n",
       "      <th>author</th>\n",
       "      <th>article_text</th>\n",
       "      <th>article_text_processed</th>\n",
       "      <th>cluster_assignment</th>\n",
       "      <th>polarity</th>\n",
       "      <th>subjectivity</th>\n",
       "    </tr>\n",
       "  </thead>\n",
       "  <tbody>\n",
       "    <tr>\n",
       "      <th>10</th>\n",
       "      <td>https://www.nytimes.com/2021/07/02/opinion/vac...</td>\n",
       "      <td>Finally, Experts Break the Silence on J.&amp;J. Bo...</td>\n",
       "      <td>Michelle Goldberg</td>\n",
       "      <td>The evidentiary void around J.&amp;J. seemed to gr...</td>\n",
       "      <td>the evidentiary void around j  j  seemed grow ...</td>\n",
       "      <td>7</td>\n",
       "      <td>0.046883</td>\n",
       "      <td>0.438741</td>\n",
       "    </tr>\n",
       "    <tr>\n",
       "      <th>66</th>\n",
       "      <td>https://www.nytimes.com/2021/06/28/opinion/cri...</td>\n",
       "      <td>The Maddening Critical Race Theory Debate</td>\n",
       "      <td>Michelle Goldberg</td>\n",
       "      <td>Parents protesting critical race theory, he wr...</td>\n",
       "      <td>parents protesting critical race theory  wrote...</td>\n",
       "      <td>1</td>\n",
       "      <td>0.080323</td>\n",
       "      <td>0.454070</td>\n",
       "    </tr>\n",
       "    <tr>\n",
       "      <th>97</th>\n",
       "      <td>https://www.nytimes.com/2021/06/24/opinion/ind...</td>\n",
       "      <td>How Did a Socialist Triumph in Buffalo?</td>\n",
       "      <td>Michelle Goldberg</td>\n",
       "      <td>That danger is real. Polls reveal that both Bl...</td>\n",
       "      <td>that danger real  polls reveal black white vot...</td>\n",
       "      <td>1</td>\n",
       "      <td>0.088406</td>\n",
       "      <td>0.428028</td>\n",
       "    </tr>\n",
       "  </tbody>\n",
       "</table>\n",
       "</div>"
      ],
      "text/plain": [
       "                                                  url  \\\n",
       "10  https://www.nytimes.com/2021/07/02/opinion/vac...   \n",
       "66  https://www.nytimes.com/2021/06/28/opinion/cri...   \n",
       "97  https://www.nytimes.com/2021/06/24/opinion/ind...   \n",
       "\n",
       "                                                title             author  \\\n",
       "10  Finally, Experts Break the Silence on J.&J. Bo...  Michelle Goldberg   \n",
       "66          The Maddening Critical Race Theory Debate  Michelle Goldberg   \n",
       "97            How Did a Socialist Triumph in Buffalo?  Michelle Goldberg   \n",
       "\n",
       "                                         article_text  \\\n",
       "10  The evidentiary void around J.&J. seemed to gr...   \n",
       "66  Parents protesting critical race theory, he wr...   \n",
       "97  That danger is real. Polls reveal that both Bl...   \n",
       "\n",
       "                               article_text_processed  cluster_assignment  \\\n",
       "10  the evidentiary void around j  j  seemed grow ...                   7   \n",
       "66  parents protesting critical race theory  wrote...                   1   \n",
       "97  that danger real  polls reveal black white vot...                   1   \n",
       "\n",
       "    polarity  subjectivity  \n",
       "10  0.046883      0.438741  \n",
       "66  0.080323      0.454070  \n",
       "97  0.088406      0.428028  "
      ]
     },
     "execution_count": 39,
     "metadata": {},
     "output_type": "execute_result"
    }
   ],
   "source": [
    "df_articles_sentiment[df_articles_sentiment['author'] == 'Michelle Goldberg']"
   ]
  },
  {
   "cell_type": "code",
   "execution_count": 41,
   "metadata": {
    "slideshow": {
     "slide_type": "skip"
    }
   },
   "outputs": [
    {
     "data": {
      "text/plain": [
       "array([0.04688269, 0.08032254, 0.0884058 ])"
      ]
     },
     "execution_count": 41,
     "metadata": {},
     "output_type": "execute_result"
    }
   ],
   "source": [
    "polarity_regressor = Pipeline([('vect', TfidfVectorizer(stop_words='english', ngram_range=(1,3))),\n",
    "                     ('reg', LinearRegression())])\n",
    "\n",
    "articles_by_goldberg = df_articles_sentiment[df_articles_sentiment['author'] == 'Michelle Goldberg']\n",
    "X = articles_by_goldberg.article_text_processed\n",
    "y = articles_by_goldberg.polarity\n",
    "\n",
    "# This of course gives the right predictions\n",
    "polarity_regressor.fit(X, y)\n",
    "polarity_regressor.predict(X)"
   ]
  },
  {
   "cell_type": "markdown",
   "metadata": {
    "slideshow": {
     "slide_type": "skip"
    }
   },
   "source": [
    "Using the unprocessed article text yields similar results:"
   ]
  },
  {
   "cell_type": "code",
   "execution_count": 42,
   "metadata": {
    "slideshow": {
     "slide_type": "skip"
    }
   },
   "outputs": [
    {
     "data": {
      "text/plain": [
       "array([0.04745199, 0.07993006, 0.0879418 ])"
      ]
     },
     "execution_count": 42,
     "metadata": {},
     "output_type": "execute_result"
    }
   ],
   "source": [
    "polarity_regressor.predict(articles_by_goldberg.article_text)"
   ]
  },
  {
   "cell_type": "markdown",
   "metadata": {
    "slideshow": {
     "slide_type": "slide"
    }
   },
   "source": [
    "### Get more articles from Goldberg\n",
    "\n",
    "We will get more articles by Goldberg using the NYT Article Search API."
   ]
  },
  {
   "cell_type": "code",
   "execution_count": 43,
   "metadata": {
    "slideshow": {
     "slide_type": "skip"
    }
   },
   "outputs": [],
   "source": [
    "goldberg_url = 'https://api.nytimes.com/svc/search/v2/articlesearch.json?q=Michelle+Goldberg&api-key={}'.format(access_token)\n",
    "json = requests.get(goldberg_url).json()\n",
    "goldberg_articles = pd.DataFrame(json.get('response').get('docs'))"
   ]
  },
  {
   "cell_type": "code",
   "execution_count": 44,
   "metadata": {
    "slideshow": {
     "slide_type": "slide"
    }
   },
   "outputs": [
    {
     "data": {
      "text/html": [
       "<div>\n",
       "<style scoped>\n",
       "    .dataframe tbody tr th:only-of-type {\n",
       "        vertical-align: middle;\n",
       "    }\n",
       "\n",
       "    .dataframe tbody tr th {\n",
       "        vertical-align: top;\n",
       "    }\n",
       "\n",
       "    .dataframe thead th {\n",
       "        text-align: right;\n",
       "    }\n",
       "</style>\n",
       "<table border=\"1\" class=\"dataframe\">\n",
       "  <thead>\n",
       "    <tr style=\"text-align: right;\">\n",
       "      <th></th>\n",
       "      <th>web_url</th>\n",
       "      <th>byline</th>\n",
       "      <th>article_text</th>\n",
       "    </tr>\n",
       "  </thead>\n",
       "  <tbody>\n",
       "    <tr>\n",
       "      <th>0</th>\n",
       "      <td>https://www.nytimes.com/2021/07/02/opinion/vac...</td>\n",
       "      <td>{'original': 'By Michelle Goldberg', 'person':...</td>\n",
       "      <td>The evidentiary void around J.&amp;J. seemed to gr...</td>\n",
       "    </tr>\n",
       "    <tr>\n",
       "      <th>1</th>\n",
       "      <td>https://www.nytimes.com/2021/06/28/opinion/cri...</td>\n",
       "      <td>{'original': 'By Michelle Goldberg', 'person':...</td>\n",
       "      <td>Parents protesting critical race theory, he wr...</td>\n",
       "    </tr>\n",
       "    <tr>\n",
       "      <th>2</th>\n",
       "      <td>https://www.nytimes.com/2021/06/24/opinion/ind...</td>\n",
       "      <td>{'original': 'By Michelle Goldberg', 'person':...</td>\n",
       "      <td>That danger is real. Polls reveal that both Bl...</td>\n",
       "    </tr>\n",
       "    <tr>\n",
       "      <th>3</th>\n",
       "      <td>https://www.nytimes.com/2021/06/21/opinion/nyc...</td>\n",
       "      <td>{'original': 'By Michelle Goldberg', 'person':...</td>\n",
       "      <td>Last week I wrote about why I thought Eric Ada...</td>\n",
       "    </tr>\n",
       "    <tr>\n",
       "      <th>4</th>\n",
       "      <td>https://www.nytimes.com/2021/06/18/opinion/nyc...</td>\n",
       "      <td>{'original': 'By Michelle Goldberg', 'person':...</td>\n",
       "      <td>So I can hardly believe I’m going to put Adams...</td>\n",
       "    </tr>\n",
       "    <tr>\n",
       "      <th>5</th>\n",
       "      <td>https://www.nytimes.com/2021/06/14/opinion/sam...</td>\n",
       "      <td>{'original': 'By Michelle Goldberg', 'person':...</td>\n",
       "      <td>President Biden, however, is still a believer....</td>\n",
       "    </tr>\n",
       "    <tr>\n",
       "      <th>6</th>\n",
       "      <td>https://www.nytimes.com/2021/06/07/opinion/acl...</td>\n",
       "      <td>{'original': 'By Michelle Goldberg', 'person':...</td>\n",
       "      <td>I have a foggy childhood memory of being home ...</td>\n",
       "    </tr>\n",
       "    <tr>\n",
       "      <th>7</th>\n",
       "      <td>https://www.nytimes.com/2021/06/04/opinion/sin...</td>\n",
       "      <td>{'original': 'By Michelle Goldberg', 'person':...</td>\n",
       "      <td>We are in the eye of the storm of American dem...</td>\n",
       "    </tr>\n",
       "    <tr>\n",
       "      <th>8</th>\n",
       "      <td>https://www.nytimes.com/2021/05/24/opinion/isr...</td>\n",
       "      <td>{'original': 'By Michelle Goldberg', 'person':...</td>\n",
       "      <td>Violence between Jews and Muslims in the Middl...</td>\n",
       "    </tr>\n",
       "    <tr>\n",
       "      <th>9</th>\n",
       "      <td>https://www.nytimes.com/2021/05/17/opinion/us-...</td>\n",
       "      <td>{'original': 'By Michelle Goldberg', 'person':...</td>\n",
       "      <td>But the explosion of fighting in Israel and Pa...</td>\n",
       "    </tr>\n",
       "  </tbody>\n",
       "</table>\n",
       "</div>"
      ],
      "text/plain": [
       "                                             web_url  \\\n",
       "0  https://www.nytimes.com/2021/07/02/opinion/vac...   \n",
       "1  https://www.nytimes.com/2021/06/28/opinion/cri...   \n",
       "2  https://www.nytimes.com/2021/06/24/opinion/ind...   \n",
       "3  https://www.nytimes.com/2021/06/21/opinion/nyc...   \n",
       "4  https://www.nytimes.com/2021/06/18/opinion/nyc...   \n",
       "5  https://www.nytimes.com/2021/06/14/opinion/sam...   \n",
       "6  https://www.nytimes.com/2021/06/07/opinion/acl...   \n",
       "7  https://www.nytimes.com/2021/06/04/opinion/sin...   \n",
       "8  https://www.nytimes.com/2021/05/24/opinion/isr...   \n",
       "9  https://www.nytimes.com/2021/05/17/opinion/us-...   \n",
       "\n",
       "                                              byline  \\\n",
       "0  {'original': 'By Michelle Goldberg', 'person':...   \n",
       "1  {'original': 'By Michelle Goldberg', 'person':...   \n",
       "2  {'original': 'By Michelle Goldberg', 'person':...   \n",
       "3  {'original': 'By Michelle Goldberg', 'person':...   \n",
       "4  {'original': 'By Michelle Goldberg', 'person':...   \n",
       "5  {'original': 'By Michelle Goldberg', 'person':...   \n",
       "6  {'original': 'By Michelle Goldberg', 'person':...   \n",
       "7  {'original': 'By Michelle Goldberg', 'person':...   \n",
       "8  {'original': 'By Michelle Goldberg', 'person':...   \n",
       "9  {'original': 'By Michelle Goldberg', 'person':...   \n",
       "\n",
       "                                        article_text  \n",
       "0  The evidentiary void around J.&J. seemed to gr...  \n",
       "1  Parents protesting critical race theory, he wr...  \n",
       "2  That danger is real. Polls reveal that both Bl...  \n",
       "3  Last week I wrote about why I thought Eric Ada...  \n",
       "4  So I can hardly believe I’m going to put Adams...  \n",
       "5  President Biden, however, is still a believer....  \n",
       "6  I have a foggy childhood memory of being home ...  \n",
       "7  We are in the eye of the storm of American dem...  \n",
       "8  Violence between Jews and Muslims in the Middl...  \n",
       "9  But the explosion of fighting in Israel and Pa...  "
      ]
     },
     "execution_count": 44,
     "metadata": {},
     "output_type": "execute_result"
    }
   ],
   "source": [
    "goldberg_articles = goldberg_articles[['web_url', 'byline']] \n",
    "\n",
    "for index, row in goldberg_articles.iterrows():\n",
    "    article = Article(row['web_url'])\n",
    "    article.download()\n",
    "    article.parse()\n",
    "    goldberg_articles.at[index,'article_text'] = article.text\n",
    "    \n",
    "goldberg_articles"
   ]
  },
  {
   "cell_type": "code",
   "execution_count": 45,
   "metadata": {
    "slideshow": {
     "slide_type": "skip"
    }
   },
   "outputs": [],
   "source": [
    "for idx, row in goldberg_articles.iterrows():\n",
    "    doc = nlp(row['article_text'])\n",
    "    goldberg_articles.at[idx,'polarity'] = doc._.polarity\n",
    "    goldberg_articles.at[idx,'subjectivity'] = doc._.subjectivity"
   ]
  },
  {
   "cell_type": "code",
   "execution_count": 46,
   "metadata": {
    "slideshow": {
     "slide_type": "slide"
    }
   },
   "outputs": [],
   "source": [
    "polarity_regressor = Pipeline([('vect', TfidfVectorizer(stop_words='english', ngram_range=(1,3))),\n",
    "                     ('reg', LinearRegression())])\n",
    "\n",
    "X = goldberg_articles.article_text\n",
    "y = goldberg_articles.polarity\n",
    "\n",
    "# This again gives the right predictions\n",
    "polarity_regressor.fit(X, y)\n",
    "goldberg_articles['pred_polarity'] = polarity_regressor.predict(X)"
   ]
  },
  {
   "cell_type": "code",
   "execution_count": 47,
   "metadata": {
    "slideshow": {
     "slide_type": "fragment"
    }
   },
   "outputs": [
    {
     "data": {
      "text/html": [
       "<div>\n",
       "<style scoped>\n",
       "    .dataframe tbody tr th:only-of-type {\n",
       "        vertical-align: middle;\n",
       "    }\n",
       "\n",
       "    .dataframe tbody tr th {\n",
       "        vertical-align: top;\n",
       "    }\n",
       "\n",
       "    .dataframe thead th {\n",
       "        text-align: right;\n",
       "    }\n",
       "</style>\n",
       "<table border=\"1\" class=\"dataframe\">\n",
       "  <thead>\n",
       "    <tr style=\"text-align: right;\">\n",
       "      <th></th>\n",
       "      <th>web_url</th>\n",
       "      <th>byline</th>\n",
       "      <th>article_text</th>\n",
       "      <th>polarity</th>\n",
       "      <th>subjectivity</th>\n",
       "      <th>pred_polarity</th>\n",
       "    </tr>\n",
       "  </thead>\n",
       "  <tbody>\n",
       "    <tr>\n",
       "      <th>0</th>\n",
       "      <td>https://www.nytimes.com/2021/07/02/opinion/vac...</td>\n",
       "      <td>{'original': 'By Michelle Goldberg', 'person':...</td>\n",
       "      <td>The evidentiary void around J.&amp;J. seemed to gr...</td>\n",
       "      <td>0.046883</td>\n",
       "      <td>0.438741</td>\n",
       "      <td>0.046883</td>\n",
       "    </tr>\n",
       "    <tr>\n",
       "      <th>1</th>\n",
       "      <td>https://www.nytimes.com/2021/06/28/opinion/cri...</td>\n",
       "      <td>{'original': 'By Michelle Goldberg', 'person':...</td>\n",
       "      <td>Parents protesting critical race theory, he wr...</td>\n",
       "      <td>0.080323</td>\n",
       "      <td>0.454070</td>\n",
       "      <td>0.080323</td>\n",
       "    </tr>\n",
       "    <tr>\n",
       "      <th>2</th>\n",
       "      <td>https://www.nytimes.com/2021/06/24/opinion/ind...</td>\n",
       "      <td>{'original': 'By Michelle Goldberg', 'person':...</td>\n",
       "      <td>That danger is real. Polls reveal that both Bl...</td>\n",
       "      <td>0.088406</td>\n",
       "      <td>0.428028</td>\n",
       "      <td>0.088406</td>\n",
       "    </tr>\n",
       "    <tr>\n",
       "      <th>3</th>\n",
       "      <td>https://www.nytimes.com/2021/06/21/opinion/nyc...</td>\n",
       "      <td>{'original': 'By Michelle Goldberg', 'person':...</td>\n",
       "      <td>Last week I wrote about why I thought Eric Ada...</td>\n",
       "      <td>0.090093</td>\n",
       "      <td>0.522319</td>\n",
       "      <td>0.090093</td>\n",
       "    </tr>\n",
       "    <tr>\n",
       "      <th>4</th>\n",
       "      <td>https://www.nytimes.com/2021/06/18/opinion/nyc...</td>\n",
       "      <td>{'original': 'By Michelle Goldberg', 'person':...</td>\n",
       "      <td>So I can hardly believe I’m going to put Adams...</td>\n",
       "      <td>-0.056994</td>\n",
       "      <td>0.539650</td>\n",
       "      <td>-0.056994</td>\n",
       "    </tr>\n",
       "    <tr>\n",
       "      <th>5</th>\n",
       "      <td>https://www.nytimes.com/2021/06/14/opinion/sam...</td>\n",
       "      <td>{'original': 'By Michelle Goldberg', 'person':...</td>\n",
       "      <td>President Biden, however, is still a believer....</td>\n",
       "      <td>0.186382</td>\n",
       "      <td>0.418772</td>\n",
       "      <td>0.186382</td>\n",
       "    </tr>\n",
       "    <tr>\n",
       "      <th>6</th>\n",
       "      <td>https://www.nytimes.com/2021/06/07/opinion/acl...</td>\n",
       "      <td>{'original': 'By Michelle Goldberg', 'person':...</td>\n",
       "      <td>I have a foggy childhood memory of being home ...</td>\n",
       "      <td>-0.002183</td>\n",
       "      <td>0.453241</td>\n",
       "      <td>-0.002183</td>\n",
       "    </tr>\n",
       "    <tr>\n",
       "      <th>7</th>\n",
       "      <td>https://www.nytimes.com/2021/06/04/opinion/sin...</td>\n",
       "      <td>{'original': 'By Michelle Goldberg', 'person':...</td>\n",
       "      <td>We are in the eye of the storm of American dem...</td>\n",
       "      <td>0.114286</td>\n",
       "      <td>0.431190</td>\n",
       "      <td>0.114286</td>\n",
       "    </tr>\n",
       "    <tr>\n",
       "      <th>8</th>\n",
       "      <td>https://www.nytimes.com/2021/05/24/opinion/isr...</td>\n",
       "      <td>{'original': 'By Michelle Goldberg', 'person':...</td>\n",
       "      <td>Violence between Jews and Muslims in the Middl...</td>\n",
       "      <td>0.035985</td>\n",
       "      <td>0.264548</td>\n",
       "      <td>0.035985</td>\n",
       "    </tr>\n",
       "    <tr>\n",
       "      <th>9</th>\n",
       "      <td>https://www.nytimes.com/2021/05/17/opinion/us-...</td>\n",
       "      <td>{'original': 'By Michelle Goldberg', 'person':...</td>\n",
       "      <td>But the explosion of fighting in Israel and Pa...</td>\n",
       "      <td>0.153759</td>\n",
       "      <td>0.411216</td>\n",
       "      <td>0.153759</td>\n",
       "    </tr>\n",
       "  </tbody>\n",
       "</table>\n",
       "</div>"
      ],
      "text/plain": [
       "                                             web_url  \\\n",
       "0  https://www.nytimes.com/2021/07/02/opinion/vac...   \n",
       "1  https://www.nytimes.com/2021/06/28/opinion/cri...   \n",
       "2  https://www.nytimes.com/2021/06/24/opinion/ind...   \n",
       "3  https://www.nytimes.com/2021/06/21/opinion/nyc...   \n",
       "4  https://www.nytimes.com/2021/06/18/opinion/nyc...   \n",
       "5  https://www.nytimes.com/2021/06/14/opinion/sam...   \n",
       "6  https://www.nytimes.com/2021/06/07/opinion/acl...   \n",
       "7  https://www.nytimes.com/2021/06/04/opinion/sin...   \n",
       "8  https://www.nytimes.com/2021/05/24/opinion/isr...   \n",
       "9  https://www.nytimes.com/2021/05/17/opinion/us-...   \n",
       "\n",
       "                                              byline  \\\n",
       "0  {'original': 'By Michelle Goldberg', 'person':...   \n",
       "1  {'original': 'By Michelle Goldberg', 'person':...   \n",
       "2  {'original': 'By Michelle Goldberg', 'person':...   \n",
       "3  {'original': 'By Michelle Goldberg', 'person':...   \n",
       "4  {'original': 'By Michelle Goldberg', 'person':...   \n",
       "5  {'original': 'By Michelle Goldberg', 'person':...   \n",
       "6  {'original': 'By Michelle Goldberg', 'person':...   \n",
       "7  {'original': 'By Michelle Goldberg', 'person':...   \n",
       "8  {'original': 'By Michelle Goldberg', 'person':...   \n",
       "9  {'original': 'By Michelle Goldberg', 'person':...   \n",
       "\n",
       "                                        article_text  polarity  subjectivity  \\\n",
       "0  The evidentiary void around J.&J. seemed to gr...  0.046883      0.438741   \n",
       "1  Parents protesting critical race theory, he wr...  0.080323      0.454070   \n",
       "2  That danger is real. Polls reveal that both Bl...  0.088406      0.428028   \n",
       "3  Last week I wrote about why I thought Eric Ada...  0.090093      0.522319   \n",
       "4  So I can hardly believe I’m going to put Adams... -0.056994      0.539650   \n",
       "5  President Biden, however, is still a believer....  0.186382      0.418772   \n",
       "6  I have a foggy childhood memory of being home ... -0.002183      0.453241   \n",
       "7  We are in the eye of the storm of American dem...  0.114286      0.431190   \n",
       "8  Violence between Jews and Muslims in the Middl...  0.035985      0.264548   \n",
       "9  But the explosion of fighting in Israel and Pa...  0.153759      0.411216   \n",
       "\n",
       "   pred_polarity  \n",
       "0       0.046883  \n",
       "1       0.080323  \n",
       "2       0.088406  \n",
       "3       0.090093  \n",
       "4      -0.056994  \n",
       "5       0.186382  \n",
       "6      -0.002183  \n",
       "7       0.114286  \n",
       "8       0.035985  \n",
       "9       0.153759  "
      ]
     },
     "execution_count": 47,
     "metadata": {},
     "output_type": "execute_result"
    }
   ],
   "source": [
    "goldberg_articles"
   ]
  },
  {
   "cell_type": "markdown",
   "metadata": {
    "slideshow": {
     "slide_type": "slide"
    }
   },
   "source": [
    "We're now going to use the model to predict Goldberg's sentiments on the other articles."
   ]
  },
  {
   "cell_type": "code",
   "execution_count": 48,
   "metadata": {
    "slideshow": {
     "slide_type": "skip"
    }
   },
   "outputs": [],
   "source": [
    "df_articles_sentiment['pred_polarity_by_goldberg'] = polarity_regressor.predict(df_articles_sentiment['article_text'])"
   ]
  },
  {
   "cell_type": "code",
   "execution_count": 51,
   "metadata": {
    "slideshow": {
     "slide_type": "skip"
    }
   },
   "outputs": [],
   "source": [
    "df_articles_sentiment = df_articles_sentiment.drop(['subjectivity', 'article_text_processed'], axis=1)"
   ]
  },
  {
   "cell_type": "code",
   "execution_count": 53,
   "metadata": {
    "scrolled": true,
    "slideshow": {
     "slide_type": "fragment"
    }
   },
   "outputs": [
    {
     "data": {
      "text/html": [
       "<div>\n",
       "<style scoped>\n",
       "    .dataframe tbody tr th:only-of-type {\n",
       "        vertical-align: middle;\n",
       "    }\n",
       "\n",
       "    .dataframe tbody tr th {\n",
       "        vertical-align: top;\n",
       "    }\n",
       "\n",
       "    .dataframe thead th {\n",
       "        text-align: right;\n",
       "    }\n",
       "</style>\n",
       "<table border=\"1\" class=\"dataframe\">\n",
       "  <thead>\n",
       "    <tr style=\"text-align: right;\">\n",
       "      <th></th>\n",
       "      <th>url</th>\n",
       "      <th>title</th>\n",
       "      <th>author</th>\n",
       "      <th>article_text</th>\n",
       "      <th>cluster_assignment</th>\n",
       "      <th>polarity</th>\n",
       "      <th>pred_polarity_by_goldberg</th>\n",
       "    </tr>\n",
       "  </thead>\n",
       "  <tbody>\n",
       "    <tr>\n",
       "      <th>64</th>\n",
       "      <td>https://www.nytimes.com/2021/06/29/opinion/bla...</td>\n",
       "      <td>Black Valedictorians and the Toxic Trope of Bl...</td>\n",
       "      <td>Samuel Getachew</td>\n",
       "      <td>In his graduation speech last month, Mr. Muham...</td>\n",
       "      <td>0</td>\n",
       "      <td>0.069060</td>\n",
       "      <td>0.074389</td>\n",
       "    </tr>\n",
       "    <tr>\n",
       "      <th>43</th>\n",
       "      <td>https://www.nytimes.com/2021/06/30/opinion/cov...</td>\n",
       "      <td>Prioritizing People to Build Back the Economy</td>\n",
       "      <td>Rashida Tlaib,Eduardo Suplicy</td>\n",
       "      <td>Similar gains can be achieved in the United St...</td>\n",
       "      <td>5</td>\n",
       "      <td>0.132132</td>\n",
       "      <td>0.082133</td>\n",
       "    </tr>\n",
       "    <tr>\n",
       "      <th>62</th>\n",
       "      <td>https://www.nytimes.com/2021/06/29/opinion/kam...</td>\n",
       "      <td>Dear Kamala Harris: It’s a Trap!</td>\n",
       "      <td>Christina Greer</td>\n",
       "      <td>Ms. Harris is a complicated figure. She is not...</td>\n",
       "      <td>1</td>\n",
       "      <td>0.127675</td>\n",
       "      <td>0.084821</td>\n",
       "    </tr>\n",
       "    <tr>\n",
       "      <th>16</th>\n",
       "      <td>https://www.nytimes.com/2021/07/02/opinion/stu...</td>\n",
       "      <td>Make Americans’ Crushing Debt Disappear</td>\n",
       "      <td>Astra Taylor,Ezekiel Kweku,Daniel Immerwahr,Jo...</td>\n",
       "      <td>Formerly enslaved people called the phase that...</td>\n",
       "      <td>1</td>\n",
       "      <td>0.132167</td>\n",
       "      <td>0.085555</td>\n",
       "    </tr>\n",
       "    <tr>\n",
       "      <th>95</th>\n",
       "      <td>https://www.nytimes.com/2021/06/25/opinion/tru...</td>\n",
       "      <td>America Is Getting Meaner</td>\n",
       "      <td>Timothy Egan</td>\n",
       "      <td>I went to see my doctor the other day for a Co...</td>\n",
       "      <td>1</td>\n",
       "      <td>-0.031485</td>\n",
       "      <td>0.079636</td>\n",
       "    </tr>\n",
       "  </tbody>\n",
       "</table>\n",
       "</div>"
      ],
      "text/plain": [
       "                                                  url  \\\n",
       "64  https://www.nytimes.com/2021/06/29/opinion/bla...   \n",
       "43  https://www.nytimes.com/2021/06/30/opinion/cov...   \n",
       "62  https://www.nytimes.com/2021/06/29/opinion/kam...   \n",
       "16  https://www.nytimes.com/2021/07/02/opinion/stu...   \n",
       "95  https://www.nytimes.com/2021/06/25/opinion/tru...   \n",
       "\n",
       "                                                title  \\\n",
       "64  Black Valedictorians and the Toxic Trope of Bl...   \n",
       "43      Prioritizing People to Build Back the Economy   \n",
       "62                   Dear Kamala Harris: It’s a Trap!   \n",
       "16            Make Americans’ Crushing Debt Disappear   \n",
       "95                          America Is Getting Meaner   \n",
       "\n",
       "                                               author  \\\n",
       "64                                    Samuel Getachew   \n",
       "43                      Rashida Tlaib,Eduardo Suplicy   \n",
       "62                                    Christina Greer   \n",
       "16  Astra Taylor,Ezekiel Kweku,Daniel Immerwahr,Jo...   \n",
       "95                                       Timothy Egan   \n",
       "\n",
       "                                         article_text  cluster_assignment  \\\n",
       "64  In his graduation speech last month, Mr. Muham...                   0   \n",
       "43  Similar gains can be achieved in the United St...                   5   \n",
       "62  Ms. Harris is a complicated figure. She is not...                   1   \n",
       "16  Formerly enslaved people called the phase that...                   1   \n",
       "95  I went to see my doctor the other day for a Co...                   1   \n",
       "\n",
       "    polarity  pred_polarity_by_goldberg  \n",
       "64  0.069060                   0.074389  \n",
       "43  0.132132                   0.082133  \n",
       "62  0.127675                   0.084821  \n",
       "16  0.132167                   0.085555  \n",
       "95 -0.031485                   0.079636  "
      ]
     },
     "execution_count": 53,
     "metadata": {},
     "output_type": "execute_result"
    }
   ],
   "source": [
    "df_articles_sentiment.sample(5)"
   ]
  },
  {
   "cell_type": "markdown",
   "metadata": {
    "slideshow": {
     "slide_type": "slide"
    }
   },
   "source": [
    "Thank you for listening :)"
   ]
  },
  {
   "cell_type": "code",
   "execution_count": null,
   "metadata": {
    "slideshow": {
     "slide_type": "skip"
    }
   },
   "outputs": [],
   "source": []
  }
 ],
 "metadata": {
  "celltoolbar": "Slideshow",
  "kernelspec": {
   "display_name": "ds-env",
   "language": "python",
   "name": "ds-env"
  },
  "language_info": {
   "codemirror_mode": {
    "name": "ipython",
    "version": 3
   },
   "file_extension": ".py",
   "mimetype": "text/x-python",
   "name": "python",
   "nbconvert_exporter": "python",
   "pygments_lexer": "ipython3",
   "version": "3.9.6"
  }
 },
 "nbformat": 4,
 "nbformat_minor": 4
}
